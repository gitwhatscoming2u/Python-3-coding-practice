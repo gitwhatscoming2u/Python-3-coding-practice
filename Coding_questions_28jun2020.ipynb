{
 "cells": [
  {
   "cell_type": "markdown",
   "metadata": {},
   "source": [
    "FIND THE SUM OF ALL NUMBERS BELOW 1000 THAT ARE DIVISIBLE BY 3 OR 5. (PLEASE SHOW CODE AND ANSWER)"
   ]
  },
  {
   "cell_type": "code",
   "execution_count": 372,
   "metadata": {},
   "outputs": [
    {
     "name": "stdout",
     "output_type": "stream",
     "text": [
      "233168\n"
     ]
    }
   ],
   "source": [
    "#Python3\n",
    "# Using a for loop\n",
    "limit=1000\n",
    "nums=[]\n",
    "sum_counter=0\n",
    "for num in range(limit):\n",
    "    if (num%3==0) or (num%5==0):\n",
    "        sum_counter+=num\n",
    "        #nums.append(num)\n",
    "#print(nums)\n",
    "#print(sum(nums))\n",
    "print(sum_counter)"
   ]
  },
  {
   "cell_type": "markdown",
   "metadata": {},
   "source": [
    "Or by using list a comprehension:"
   ]
  },
  {
   "cell_type": "code",
   "execution_count": 371,
   "metadata": {},
   "outputs": [
    {
     "name": "stdout",
     "output_type": "stream",
     "text": [
      "233168\n"
     ]
    }
   ],
   "source": [
    "# Using a list comprehension\n",
    "nums=[num for num in range(limit) if (num%3==0) or (num%5==0)]\n",
    "print(sum(nums))"
   ]
  },
  {
   "cell_type": "markdown",
   "metadata": {},
   "source": [
    "FIND THE LARGEST PALINDROME MADE FROM THE PRODUCT OF TWO 3-DIGIT NUMBERS. (PLEASE SHOW CODE AND ANSWER)"
   ]
  },
  {
   "cell_type": "code",
   "execution_count": 374,
   "metadata": {},
   "outputs": [
    {
     "name": "stdout",
     "output_type": "stream",
     "text": [
      "The largest palindrome is 906609 and the two three-digit numbers are 993 and 913.\n"
     ]
    }
   ],
   "source": [
    "# Python3\n",
    "\n",
    "# Palindromic number checker function\n",
    "# converts number vector into list and checks that forward order of digits is same as reverse order\n",
    "\n",
    "def pal_chk(number):\n",
    "    if (isinstance(number, int)) and (number>=1):\n",
    "        num_list=[x for x in str(number)] \n",
    "        for i in range(len(num_list)):\n",
    "            if num_list[i]==num_list[len(num_list)-1-i]:\n",
    "                continue\n",
    "            else:\n",
    "                return \"Number not palindromic\"\n",
    "        return True\n",
    "    else:\n",
    "        return \"Number not positive integer\"\n",
    "\n",
    "# Check for largest palindrome that is the product of two three-digit numbers, at most 999*999\n",
    "#largest possible product of two three-digit numbers is 999*999\n",
    "num1=999\n",
    "num2=999\n",
    "max_result=0\n",
    "temp=0\n",
    "maxi=0\n",
    "maxj=0\n",
    "for i in range(num1,99,-1):\n",
    "    for j in range(num2,99,-1):\n",
    "        temp=i*j\n",
    "        if (pal_chk(temp)==True) and (temp>max_result):\n",
    "            max_result=temp\n",
    "            maxi=i\n",
    "            maxj=j \n",
    "print(f\"The largest palindrome is {max_result} and the two three-digit numbers are {maxi} and {maxj}.\")"
   ]
  }
 ],
 "metadata": {
  "kernelspec": {
   "display_name": "Python 3",
   "language": "python",
   "name": "python3"
  },
  "language_info": {
   "codemirror_mode": {
    "name": "ipython",
    "version": 3
   },
   "file_extension": ".py",
   "mimetype": "text/x-python",
   "name": "python",
   "nbconvert_exporter": "python",
   "pygments_lexer": "ipython3",
   "version": "3.7.6"
  }
 },
 "nbformat": 4,
 "nbformat_minor": 4
}
