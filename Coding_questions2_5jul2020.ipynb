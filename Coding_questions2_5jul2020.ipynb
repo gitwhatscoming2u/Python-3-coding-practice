{
 "cells": [
  {
   "cell_type": "markdown",
   "metadata": {},
   "source": [
    "## Response Question 2"
   ]
  },
  {
   "cell_type": "code",
   "execution_count": null,
   "metadata": {},
   "outputs": [],
   "source": [
    "# Response Question 2\n",
    "# QUESTION SUMMARY\n",
    "# the daily data arrives as a list/array/vector of strings and follows this exact format \n",
    "# (note that customers may place separate orders in a single day): \n",
    "# day_i = [\"Bob:100\", \"Alice:100\", \"Celia:110\", \"Bob:20\", etc...]\n",
    "# Write a script that, when given the daily data, will keep track of the total purchase amount for each customer. \n",
    "# Output data as a table.\n",
    "\n",
    "# This data format looks like a list of strings\n",
    "# Using Python 3\n",
    "\n",
    "import pandas as pd\n",
    "\n",
    "day_i = [\"Bob:100\", \"Alice:100\", \"Celia:110\", \"Bob:20\"] #test data\n",
    "\n",
    "def purchases(daily_list):\n",
    "# Deconstruct list of strings, convert amount into integer\n",
    "    name = [i.split(':')[0] for i in daily_list]\n",
    "    amount = [int(i.split(':')[1]) for i in daily_list]\n",
    "\n",
    "# Loop through names and amounts and sum corresponding amounts when name is repeated\n",
    "    customer = []\n",
    "    tot_purch = []\n",
    "    for i in range(len(name)):   \n",
    "        if name[i] in customer:\n",
    "            tot_purch[customer.index(name[i])] += amount[i]\n",
    "        else:\n",
    "            customer.append(name[i])\n",
    "            tot_purch.append(amount[i])\n",
    "            \n",
    "# Return results in table/dataframe with customers listed in alphabetical order        \n",
    "    df1 = pd.DataFrame({'Customer': customer, 'Total Purchase': tot_purch}) \n",
    "    return df1.sort_values('Customer', inplace=False)\n",
    "\n",
    "# Apply purchases function to test data and print table\n",
    "print(purchases(day_i))\n",
    "\n",
    "#  Customer  Total Purchase\n",
    "#1    Alice             100\n",
    "#0      Bob             120\n",
    "#2    Celia             110"
   ]
  },
  {
   "cell_type": "markdown",
   "metadata": {},
   "source": [
    "## Response Question 3"
   ]
  },
  {
   "cell_type": "code",
   "execution_count": null,
   "metadata": {},
   "outputs": [],
   "source": [
    "# Response Question 3\n",
    "# QUESTION SUMMARY\n",
    "# correctly guess an unknown integer \n",
    "# The script should accept a lower and upper bound which is provided \n",
    "# use the minimum number of guesses to discover the unknown integer \n",
    "# The unknown integer will always lie within the lower and upper bounds specified  \n",
    "# The script should not have access to the unknown integer when the code initially runs\n",
    "# The client can give input in only two ways: specifying the lower and upper bounds; and by answering yes/no questions.\n",
    "\n",
    "# Using Python 3\n",
    "\n",
    "# Set bounds by user input\n",
    "lower = int(input(\"Enter lower bound:\"))\n",
    "upper = int(input(\"Enter upper bound:\"))\n",
    "\n",
    "import random as rnd\n",
    "\n",
    "i1 = 'no'\n",
    "num_list = [] # List of guessed numbers to keep from repeating guesses\n",
    "while i1 == 'no':\n",
    "    r1 = rnd.randint(lower, upper) # Generate random integer (though only pseudorandom)\n",
    "    if r1 in num_list:\n",
    "        continue\n",
    "    else:\n",
    "        num_list.append(r1) # Update list of guessed numbers to keep from repeating guesses\n",
    "        print(f\"Is your number {r1}?\")\n",
    "        i1 = input(\"Enter yes or no:\")\n",
    "        if i1=='yes':\n",
    "            print(f\"Abracadabra! Your number is {r1}!\")\n",
    "        else:\n",
    "            if (r1 < upper) and (r1 > lower): # Update bounds\n",
    "                print(f\"Is your number greater than {r1}?\")\n",
    "                i2 = input(\"Enter yes or no:\")\n",
    "                if i2 == 'yes':\n",
    "                    lower = r1\n",
    "                else: \n",
    "                    upper = r1\n",
    "            else:\n",
    "                continue\n",
    "print(f\"Your number materalized after {len(num_list)} guesses!\")"
   ]
  }
 ],
 "metadata": {
  "kernelspec": {
   "display_name": "Python 3",
   "language": "python",
   "name": "python3"
  },
  "language_info": {
   "codemirror_mode": {
    "name": "ipython",
    "version": 3
   },
   "file_extension": ".py",
   "mimetype": "text/x-python",
   "name": "python",
   "nbconvert_exporter": "python",
   "pygments_lexer": "ipython3",
   "version": "3.7.6"
  }
 },
 "nbformat": 4,
 "nbformat_minor": 4
}
